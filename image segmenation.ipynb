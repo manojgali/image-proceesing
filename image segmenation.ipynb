{
 "cells": [
  {
   "cell_type": "code",
   "execution_count": 1,
   "metadata": {
    "collapsed": true
   },
   "outputs": [],
   "source": [
    "%matplotlib inline\n",
    "import cv2\n",
    "import matplotlib.pyplot as plt\n",
    "import numpy as np"
   ]
  },
  {
   "cell_type": "code",
   "execution_count": 2,
   "metadata": {
    "collapsed": true
   },
   "outputs": [],
   "source": [
    "path= \"test1.png\"\n",
    "img = cv2.imread(path,0)\n",
    "img2 = img.copy()\n",
    "img3 = img.copy()"
   ]
  },
  {
   "cell_type": "code",
   "execution_count": 3,
   "metadata": {},
   "outputs": [
    {
     "data": {
      "text/plain": [
       "620"
      ]
     },
     "execution_count": 3,
     "metadata": {},
     "output_type": "execute_result"
    }
   ],
   "source": [
    "len(img)"
   ]
  },
  {
   "cell_type": "code",
   "execution_count": 4,
   "metadata": {},
   "outputs": [
    {
     "data": {
      "text/plain": [
       "642"
      ]
     },
     "execution_count": 4,
     "metadata": {},
     "output_type": "execute_result"
    }
   ],
   "source": [
    "len(img[0])"
   ]
  },
  {
   "cell_type": "code",
   "execution_count": 5,
   "metadata": {
    "collapsed": true
   },
   "outputs": [],
   "source": [
    "d = {}\n",
    "\n",
    "for i in range(0,len(img)):\n",
    "    for j in range(0,len(img[0])):\n",
    "        if img[i][j] in d.keys():\n",
    "            d[img[i][j]] += 1\n",
    "        else:\n",
    "            d[img[i][j]] = 1\n",
    "\n",
    "s = [(k, d[k]) for k in sorted(d, key=d.get, reverse=True)]\n",
    "\n",
    "for i in range(0,len(img)):\n",
    "    for j in range(0,len(img[0])):\n",
    "        if img[i][j] == s[1][0] or img[i][j] == s[4][0]:\n",
    "            img3[i][j] = s[0][0]\n",
    "        elif img[i][j] != s[0][0]:\n",
    "            img2[i][j] = s[0][0]\n",
    "for i in range(0,len(img2)):\n",
    "    for j in range(0,len(img2[0])):\n",
    "        if img2[i][j]!=255:\n",
    "            img2[i][j]=0\n",
    "for i in range(0,len(img3)):\n",
    "    for j in range(0,len(img3[0])):\n",
    "        if img3[i][j]!=255:\n",
    "            img3[i][j]=0\n"
   ]
  },
  {
   "cell_type": "code",
   "execution_count": null,
   "metadata": {
    "collapsed": true
   },
   "outputs": [],
   "source": []
  },
  {
   "cell_type": "code",
   "execution_count": null,
   "metadata": {
    "collapsed": true
   },
   "outputs": [],
   "source": [
    "cv2.imshow('Image1',img)\n",
    "cv2.imshow('Image2',img2)\n",
    "cv2.imshow('Image3',img3)\n",
    "cv2.waitKey(0)"
   ]
  },
  {
   "cell_type": "code",
   "execution_count": null,
   "metadata": {
    "collapsed": true
   },
   "outputs": [],
   "source": []
  },
  {
   "cell_type": "code",
   "execution_count": null,
   "metadata": {
    "collapsed": true
   },
   "outputs": [],
   "source": []
  }
 ],
 "metadata": {
  "kernelspec": {
   "display_name": "Python 3",
   "language": "python",
   "name": "python3"
  },
  "language_info": {
   "codemirror_mode": {
    "name": "ipython",
    "version": 3
   },
   "file_extension": ".py",
   "mimetype": "text/x-python",
   "name": "python",
   "nbconvert_exporter": "python",
   "pygments_lexer": "ipython3",
   "version": "3.6.1"
  }
 },
 "nbformat": 4,
 "nbformat_minor": 2
}
